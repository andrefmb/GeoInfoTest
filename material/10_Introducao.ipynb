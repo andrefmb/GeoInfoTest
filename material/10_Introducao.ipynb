{
 "cells": [
  {
   "cell_type": "markdown",
   "id": "617260ab",
   "metadata": {},
   "source": [
    "# Introdução aos Dados Espaciais"
   ]
  },
  {
   "cell_type": "markdown",
   "id": "252a1559",
   "metadata": {},
   "source": [
    "Tudo o que acontece, acontece em algum lugar. É de grande valia saber lidar com a espacialidade dos eventos.\n",
    "\n",
    "Enquanto os dados não espaciais registram um evento sem se preocupar onde tal eventoocorre, os dados espciais preocupam-se em saber *onde* ocorre tal evento. Dessa forma, trabalhar com dados espaciais irá fornecer duas propriedades: a primeira, já encontrada nos dados não espaciais, irá armazenar a magnitude de um atributo de um determinado evento ou fenômeno e, a segunda propriedade (de natureza espacial), de armazenar uma referência explícita em termos da localização geográfica deste atributo, possibilitando a compreensão de como esses dados estão arranjados no espaço.\n",
    "\n",
    "Nos últimos anos ocorreu uma explosão de disponibilidade de dados espaciais, principalmente pelo avanço tecnológico do sensoriamenteo remoto e da rede de satélites em torno da terra, que permitaram o desenvolvimento do *Sistema de Posicionamento Global* (do inglês *Global Positioning System* - GPS).\n",
    "\n",
    "\n",
    "\n",
    "\n",
    "<figure>\n",
    "    <img src=\"imgs/10_gps.jpg\" width=300 height=100/>\n",
    "    <figcaption><center>Sistema de Posicionamento Global</center></figcaption>\n",
    "</figure>\n"
   ]
  },
  {
   "cell_type": "code",
   "execution_count": null,
   "id": "4d9d3d3a",
   "metadata": {},
   "outputs": [],
   "source": []
  }
 ],
 "metadata": {
  "kernelspec": {
   "display_name": "Python 3",
   "language": "python",
   "name": "python3"
  },
  "language_info": {
   "codemirror_mode": {
    "name": "ipython",
    "version": 3
   },
   "file_extension": ".py",
   "mimetype": "text/x-python",
   "name": "python",
   "nbconvert_exporter": "python",
   "pygments_lexer": "ipython3",
   "version": "3.7.10"
  },
  "toc": {
   "base_numbering": 1,
   "nav_menu": {},
   "number_sections": true,
   "sideBar": true,
   "skip_h1_title": false,
   "title_cell": "Table of Contents",
   "title_sidebar": "Contents",
   "toc_cell": false,
   "toc_position": {},
   "toc_section_display": true,
   "toc_window_display": false
  }
 },
 "nbformat": 4,
 "nbformat_minor": 5
}
